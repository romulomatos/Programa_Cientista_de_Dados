{
    "cells": [
        {
            "cell_type": "markdown",
            "metadata": {
                "collapsed": true
            },
            "source": "# My Jupyter Notebook on IBM Watson Studio\n## Week 4 - Peer-graded assignment"
        },
        {
            "cell_type": "markdown",
            "metadata": {},
            "source": "## __Romulo Matos__\nGeophysicist"
        },
        {
            "cell_type": "markdown",
            "metadata": {},
            "source": "*I am interested in develop skills in data science to apply in the O&G and Energy industry*"
        },
        {
            "cell_type": "markdown",
            "metadata": {},
            "source": "---"
        },
        {
            "cell_type": "markdown",
            "metadata": {},
            "source": "### Below, a breaf and general code just to say Hello, world!"
        },
        {
            "cell_type": "code",
            "execution_count": 4,
            "metadata": {},
            "outputs": [
                {
                    "name": "stdout",
                    "output_type": "stream",
                    "text": "Hello, World!\n"
                }
            ],
            "source": "print(\"Hello, World!\")"
        },
        {
            "cell_type": "markdown",
            "metadata": {},
            "source": "***"
        },
        {
            "cell_type": "markdown",
            "metadata": {},
            "source": "The last 4 World Cup hosts:\n\n1. Russia\n2. Brazil\n3. South Africa\n4. Germany"
        },
        {
            "cell_type": "markdown",
            "metadata": {},
            "source": "## World Cup Champions\n\n*Country* | `Rank` |# Cups \n--- | --- | ---\nBrazil | 1 | 5\nGermany | 2 | 4\nItaly | 3 | 4\nArgentina| 4 | 2\nFrance | 5 | 2\nUruguay | 6 | 2\nSpain |7 | 1\nEngland | 8 | 1"
        },
        {
            "cell_type": "markdown",
            "metadata": {},
            "source": "More information can be found [here](https://en.wikipedia.org/wiki/FIFA_World_Cup)"
        },
        {
            "cell_type": "markdown",
            "metadata": {},
            "source": "***"
        },
        {
            "cell_type": "code",
            "execution_count": 5,
            "metadata": {},
            "outputs": [
                {
                    "name": "stdout",
                    "output_type": "stream",
                    "text": "Good bye!\n"
                }
            ],
            "source": "print(\"Good bye!\")"
        }
    ],
    "metadata": {
        "kernelspec": {
            "display_name": "Python 3.8",
            "language": "python",
            "name": "python3"
        },
        "language_info": {
            "codemirror_mode": {
                "name": "ipython",
                "version": 3
            },
            "file_extension": ".py",
            "mimetype": "text/x-python",
            "name": "python",
            "nbconvert_exporter": "python",
            "pygments_lexer": "ipython3",
            "version": "3.8.12"
        }
    },
    "nbformat": 4,
    "nbformat_minor": 1
}